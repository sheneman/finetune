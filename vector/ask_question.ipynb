{
  "nbformat": 4,
  "nbformat_minor": 0,
  "metadata": {
    "colab": {
      "provenance": [],
      "authorship_tag": "ABX9TyOSbBMDDrlW3DXvUMadJmt8",
      "include_colab_link": true
    },
    "kernelspec": {
      "name": "python3",
      "display_name": "Python 3"
    },
    "language_info": {
      "name": "python"
    }
  },
  "cells": [
    {
      "cell_type": "markdown",
      "metadata": {
        "id": "view-in-github",
        "colab_type": "text"
      },
      "source": [
        "<a href=\"https://colab.research.google.com/github/sheneman/finetune/blob/main/vector/ask_question.ipynb\" target=\"_parent\"><img src=\"https://colab.research.google.com/assets/colab-badge.svg\" alt=\"Open In Colab\"/></a>"
      ]
    },
    {
      "cell_type": "code",
      "source": [
        "%pip install chromadb typing-extensions==4.7.1"
      ],
      "metadata": {
        "id": "zfOawLl-Uvj1"
      },
      "execution_count": null,
      "outputs": []
    },
    {
      "cell_type": "code",
      "execution_count": null,
      "metadata": {
        "colab": {
          "base_uri": "https://localhost:8080/"
        },
        "id": "SmQLsLnYUkdS",
        "outputId": "9bf66ad8-4bd7-41ba-b43c-c80338c3cb44"
      },
      "outputs": [
        {
          "output_type": "stream",
          "name": "stderr",
          "text": [
            "/root/.cache/chroma/onnx_models/all-MiniLM-L6-v2/onnx.tar.gz: 100%|██████████| 79.3M/79.3M [00:14<00:00, 5.86MiB/s]\n"
          ]
        },
        {
          "output_type": "stream",
          "name": "stdout",
          "text": [
            "Welcome to the University of Idaho Library!\n",
            "--> How can I help you? Hello\n",
            "Hi.\n",
            "\n",
            "\n"
          ]
        }
      ],
      "source": [
        "# ask_question.py\n",
        "#\n",
        "# Semantic similarity search against ChromaDB for library assistant example\n",
        "#\n",
        "# John Brunsfeld and Luke Sheneman\n",
        "# Research Computing and Data Services (RCDS)\n",
        "# Institute for Interdisciplinary Data Sciences (IIDS)\n",
        "#\n",
        "# jbrunsfeld@uidaho.edu, sheneman@uidaho.edu\n",
        "# 2024\n",
        "\n",
        "import chromadb\n",
        "from chromadb.config import Settings\n",
        "import os\n",
        "import json\n",
        "import sys\n",
        "\n",
        "\n",
        "def search(question):\n",
        "\tclient = chromadb.PersistentClient(path=\"/db/assistant.db\")\n",
        "\tcollection = client.get_collection(name=\"assistant\")\n",
        "\tresults = collection.query(\n",
        "\t\tquery_texts=[question],\n",
        "\t\tn_results=1,\n",
        "\t\t# where={\"metadata_field\": \"is_equal_to_this\"}, # optional filter\n",
        "\t\t# where_document={\"$contains\":\"search_string\"}  # optional filter\n",
        "\t)\n",
        "\n",
        "\tmetadatas = results[\"metadatas\"]\n",
        "\tanswer = metadatas[0][0][\"answer\"]\n",
        "\treturn answer\n",
        "\n",
        "\n",
        "client = chromadb.PersistentClient(path=\"/db/assistant.db\")\n",
        "collection = client.get_collection(name=\"assistant\")\n",
        "results = collection.query(\n",
        "\tquery_texts=[\"hello\"],\n",
        "\tn_results=1,\n",
        "\t# where={\"metadata_field\": \"is_equal_to_this\"}, # optional filter\n",
        "\t# where_document={\"$contains\":\"search_string\"}  # optional filter\n",
        "\t)\n",
        "\n",
        "print(\"Welcome to the University of Idaho Library!\")\n",
        "\n",
        "while True:\n",
        "\tquestion = input(\"--> How can I help you? \")\n",
        "\n",
        "\tif question.lower() == 'quit':\n",
        "\t\tbreak\n",
        "\n",
        "\tresponse = search(question)\n",
        "\n",
        "\tprint(response)\n",
        "\tprint(\"\\n\")\n",
        "\n",
        "print(\"Goodbye!\")"
      ]
    }
  ]
}