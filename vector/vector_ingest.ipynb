{
  "nbformat": 4,
  "nbformat_minor": 0,
  "metadata": {
    "colab": {
      "provenance": [],
      "authorship_tag": "ABX9TyOUvvuUZn61Y3fOvYjHwtTE",
      "include_colab_link": true
    },
    "kernelspec": {
      "name": "python3",
      "display_name": "Python 3"
    },
    "language_info": {
      "name": "python"
    }
  },
  "cells": [
    {
      "cell_type": "markdown",
      "metadata": {
        "id": "view-in-github",
        "colab_type": "text"
      },
      "source": [
        "<a href=\"https://colab.research.google.com/github/sheneman/finetune/blob/main/vector/vector_ingest.ipynb\" target=\"_parent\"><img src=\"https://colab.research.google.com/assets/colab-badge.svg\" alt=\"Open In Colab\"/></a>"
      ]
    },
    {
      "cell_type": "code",
      "source": [
        "%pip install chromadb typing-extensions==4.7.1"
      ],
      "metadata": {
        "id": "2TXd4z_zQ5sX"
      },
      "execution_count": null,
      "outputs": []
    },
    {
      "cell_type": "code",
      "execution_count": 11,
      "metadata": {
        "colab": {
          "base_uri": "https://localhost:8080/",
          "height": 1000
        },
        "id": "-AjD3GvJQeBz",
        "outputId": "57eb9982-a715-41ae-f797-c20a1e464c44"
      },
      "outputs": [
        {
          "output_type": "stream",
          "name": "stdout",
          "text": [
            "0\n",
            "Ingesting 55453 prompts\n",
            "Ingesting prompt: 0\n"
          ]
        },
        {
          "output_type": "stream",
          "name": "stderr",
          "text": [
            "/root/.cache/chroma/onnx_models/all-MiniLM-L6-v2/onnx.tar.gz: 100%|██████████| 79.3M/79.3M [00:03<00:00, 22.4MiB/s]\n"
          ]
        },
        {
          "output_type": "stream",
          "name": "stdout",
          "text": [
            "Ingesting prompt: 1\n",
            "Ingesting prompt: 2\n",
            "Ingesting prompt: 3\n",
            "Ingesting prompt: 4\n",
            "Ingesting prompt: 5\n",
            "Ingesting prompt: 6\n",
            "Ingesting prompt: 7\n",
            "Ingesting prompt: 8\n",
            "Ingesting prompt: 9\n",
            "Ingesting prompt: 10\n",
            "Ingesting prompt: 11\n",
            "Ingesting prompt: 12\n",
            "Ingesting prompt: 13\n",
            "Ingesting prompt: 14\n",
            "Ingesting prompt: 15\n",
            "Ingesting prompt: 16\n",
            "Ingesting prompt: 17\n",
            "Ingesting prompt: 18\n",
            "Ingesting prompt: 19\n",
            "Ingesting prompt: 20\n",
            "Ingesting prompt: 21\n",
            "Ingesting prompt: 22\n",
            "Ingesting prompt: 23\n",
            "Ingesting prompt: 24\n",
            "Ingesting prompt: 25\n",
            "Ingesting prompt: 26\n",
            "Ingesting prompt: 27\n",
            "Ingesting prompt: 28\n",
            "Ingesting prompt: 29\n",
            "Ingesting prompt: 30\n",
            "Ingesting prompt: 31\n",
            "Ingesting prompt: 32\n",
            "Ingesting prompt: 33\n",
            "Ingesting prompt: 34\n",
            "Ingesting prompt: 35\n",
            "Ingesting prompt: 36\n",
            "Ingesting prompt: 37\n",
            "Ingesting prompt: 38\n",
            "Ingesting prompt: 39\n",
            "Ingesting prompt: 40\n",
            "Ingesting prompt: 41\n",
            "Ingesting prompt: 42\n",
            "Ingesting prompt: 43\n",
            "Ingesting prompt: 44\n",
            "Ingesting prompt: 45\n",
            "Ingesting prompt: 46\n",
            "Ingesting prompt: 47\n",
            "Ingesting prompt: 48\n",
            "Ingesting prompt: 49\n",
            "Ingesting prompt: 50\n",
            "Ingesting prompt: 51\n",
            "Ingesting prompt: 52\n",
            "Ingesting prompt: 53\n",
            "Ingesting prompt: 54\n",
            "Ingesting prompt: 55\n",
            "Ingesting prompt: 56\n",
            "Ingesting prompt: 57\n",
            "Ingesting prompt: 58\n",
            "Ingesting prompt: 59\n",
            "Ingesting prompt: 60\n",
            "Ingesting prompt: 61\n",
            "Ingesting prompt: 62\n",
            "Ingesting prompt: 63\n",
            "Ingesting prompt: 64\n",
            "Ingesting prompt: 65\n",
            "Ingesting prompt: 66\n",
            "Ingesting prompt: 67\n",
            "Ingesting prompt: 68\n",
            "Ingesting prompt: 69\n",
            "Ingesting prompt: 70\n",
            "Ingesting prompt: 71\n"
          ]
        },
        {
          "output_type": "error",
          "ename": "KeyboardInterrupt",
          "evalue": "",
          "traceback": [
            "\u001b[0;31m---------------------------------------------------------------------------\u001b[0m",
            "\u001b[0;31mKeyboardInterrupt\u001b[0m                         Traceback (most recent call last)",
            "\u001b[0;32m<ipython-input-11-49b75b4654b1>\u001b[0m in \u001b[0;36m<cell line: 58>\u001b[0;34m()\u001b[0m\n\u001b[1;32m     56\u001b[0m \t\t)\n\u001b[1;32m     57\u001b[0m \u001b[0;34m\u001b[0m\u001b[0m\n\u001b[0;32m---> 58\u001b[0;31m \u001b[0mingest\u001b[0m\u001b[0;34m(\u001b[0m\u001b[0;34m)\u001b[0m\u001b[0;34m\u001b[0m\u001b[0;34m\u001b[0m\u001b[0m\n\u001b[0m",
            "\u001b[0;32m<ipython-input-11-49b75b4654b1>\u001b[0m in \u001b[0;36mingest\u001b[0;34m()\u001b[0m\n\u001b[1;32m     50\u001b[0m                 \u001b[0mprint\u001b[0m\u001b[0;34m(\u001b[0m\u001b[0;34m\"Ingesting prompt: \"\u001b[0m \u001b[0;34m+\u001b[0m \u001b[0mstr\u001b[0m\u001b[0;34m(\u001b[0m\u001b[0mi\u001b[0m\u001b[0;34m)\u001b[0m \u001b[0;34m)\u001b[0m\u001b[0;34m\u001b[0m\u001b[0;34m\u001b[0m\u001b[0m\n\u001b[1;32m     51\u001b[0m \u001b[0;34m\u001b[0m\u001b[0m\n\u001b[0;32m---> 52\u001b[0;31m \t\tcollection.add(\n\u001b[0m\u001b[1;32m     53\u001b[0m                         \u001b[0mdocuments\u001b[0m \u001b[0;34m=\u001b[0m \u001b[0mquestions\u001b[0m\u001b[0;34m,\u001b[0m\u001b[0;34m\u001b[0m\u001b[0;34m\u001b[0m\u001b[0m\n\u001b[1;32m     54\u001b[0m                         \u001b[0mmetadatas\u001b[0m \u001b[0;34m=\u001b[0m \u001b[0mmetadatas\u001b[0m\u001b[0;34m,\u001b[0m\u001b[0;34m\u001b[0m\u001b[0;34m\u001b[0m\u001b[0m\n",
            "\u001b[0;32m/usr/local/lib/python3.10/dist-packages/chromadb/api/models/Collection.py\u001b[0m in \u001b[0;36madd\u001b[0;34m(self, ids, embeddings, metadatas, documents, images, uris)\u001b[0m\n\u001b[1;32m    152\u001b[0m             \u001b[0;31m# At this point, we know that one of documents or images are provided from the validation above\u001b[0m\u001b[0;34m\u001b[0m\u001b[0;34m\u001b[0m\u001b[0m\n\u001b[1;32m    153\u001b[0m             \u001b[0;32mif\u001b[0m \u001b[0mdocuments\u001b[0m \u001b[0;32mis\u001b[0m \u001b[0;32mnot\u001b[0m \u001b[0;32mNone\u001b[0m\u001b[0;34m:\u001b[0m\u001b[0;34m\u001b[0m\u001b[0;34m\u001b[0m\u001b[0m\n\u001b[0;32m--> 154\u001b[0;31m                 \u001b[0membeddings\u001b[0m \u001b[0;34m=\u001b[0m \u001b[0mself\u001b[0m\u001b[0;34m.\u001b[0m\u001b[0m_embed\u001b[0m\u001b[0;34m(\u001b[0m\u001b[0minput\u001b[0m\u001b[0;34m=\u001b[0m\u001b[0mdocuments\u001b[0m\u001b[0;34m)\u001b[0m\u001b[0;34m\u001b[0m\u001b[0;34m\u001b[0m\u001b[0m\n\u001b[0m\u001b[1;32m    155\u001b[0m             \u001b[0;32melif\u001b[0m \u001b[0mimages\u001b[0m \u001b[0;32mis\u001b[0m \u001b[0;32mnot\u001b[0m \u001b[0;32mNone\u001b[0m\u001b[0;34m:\u001b[0m\u001b[0;34m\u001b[0m\u001b[0;34m\u001b[0m\u001b[0m\n\u001b[1;32m    156\u001b[0m                 \u001b[0membeddings\u001b[0m \u001b[0;34m=\u001b[0m \u001b[0mself\u001b[0m\u001b[0;34m.\u001b[0m\u001b[0m_embed\u001b[0m\u001b[0;34m(\u001b[0m\u001b[0minput\u001b[0m\u001b[0;34m=\u001b[0m\u001b[0mimages\u001b[0m\u001b[0;34m)\u001b[0m\u001b[0;34m\u001b[0m\u001b[0;34m\u001b[0m\u001b[0m\n",
            "\u001b[0;32m/usr/local/lib/python3.10/dist-packages/chromadb/api/models/Collection.py\u001b[0m in \u001b[0;36m_embed\u001b[0;34m(self, input)\u001b[0m\n\u001b[1;32m    631\u001b[0m                 \u001b[0;34m\"https://docs.trychroma.com/embeddings\"\u001b[0m\u001b[0;34m\u001b[0m\u001b[0;34m\u001b[0m\u001b[0m\n\u001b[1;32m    632\u001b[0m             )\n\u001b[0;32m--> 633\u001b[0;31m         \u001b[0;32mreturn\u001b[0m \u001b[0mself\u001b[0m\u001b[0;34m.\u001b[0m\u001b[0m_embedding_function\u001b[0m\u001b[0;34m(\u001b[0m\u001b[0minput\u001b[0m\u001b[0;34m=\u001b[0m\u001b[0minput\u001b[0m\u001b[0;34m)\u001b[0m\u001b[0;34m\u001b[0m\u001b[0;34m\u001b[0m\u001b[0m\n\u001b[0m",
            "\u001b[0;32m/usr/local/lib/python3.10/dist-packages/chromadb/utils/embedding_functions.py\u001b[0m in \u001b[0;36m__call__\u001b[0;34m(self, input)\u001b[0m\n\u001b[1;32m    507\u001b[0m         \u001b[0mself\u001b[0m\u001b[0;34m.\u001b[0m\u001b[0m_download_model_if_not_exists\u001b[0m\u001b[0;34m(\u001b[0m\u001b[0;34m)\u001b[0m\u001b[0;34m\u001b[0m\u001b[0;34m\u001b[0m\u001b[0m\n\u001b[1;32m    508\u001b[0m         \u001b[0mself\u001b[0m\u001b[0;34m.\u001b[0m\u001b[0m_init_model_and_tokenizer\u001b[0m\u001b[0;34m(\u001b[0m\u001b[0;34m)\u001b[0m\u001b[0;34m\u001b[0m\u001b[0;34m\u001b[0m\u001b[0m\n\u001b[0;32m--> 509\u001b[0;31m         \u001b[0mres\u001b[0m \u001b[0;34m=\u001b[0m \u001b[0mcast\u001b[0m\u001b[0;34m(\u001b[0m\u001b[0mEmbeddings\u001b[0m\u001b[0;34m,\u001b[0m \u001b[0mself\u001b[0m\u001b[0;34m.\u001b[0m\u001b[0m_forward\u001b[0m\u001b[0;34m(\u001b[0m\u001b[0minput\u001b[0m\u001b[0;34m)\u001b[0m\u001b[0;34m.\u001b[0m\u001b[0mtolist\u001b[0m\u001b[0;34m(\u001b[0m\u001b[0;34m)\u001b[0m\u001b[0;34m)\u001b[0m\u001b[0;34m\u001b[0m\u001b[0;34m\u001b[0m\u001b[0m\n\u001b[0m\u001b[1;32m    510\u001b[0m         \u001b[0;32mreturn\u001b[0m \u001b[0mres\u001b[0m\u001b[0;34m\u001b[0m\u001b[0;34m\u001b[0m\u001b[0m\n\u001b[1;32m    511\u001b[0m \u001b[0;34m\u001b[0m\u001b[0m\n",
            "\u001b[0;32m/usr/local/lib/python3.10/dist-packages/chromadb/utils/embedding_functions.py\u001b[0m in \u001b[0;36m_forward\u001b[0;34m(self, documents, batch_size)\u001b[0m\n\u001b[1;32m    456\u001b[0m                 ),\n\u001b[1;32m    457\u001b[0m             }\n\u001b[0;32m--> 458\u001b[0;31m             \u001b[0mmodel_output\u001b[0m \u001b[0;34m=\u001b[0m \u001b[0mself\u001b[0m\u001b[0;34m.\u001b[0m\u001b[0mmodel\u001b[0m\u001b[0;34m.\u001b[0m\u001b[0mrun\u001b[0m\u001b[0;34m(\u001b[0m\u001b[0;32mNone\u001b[0m\u001b[0;34m,\u001b[0m \u001b[0monnx_input\u001b[0m\u001b[0;34m)\u001b[0m\u001b[0;34m\u001b[0m\u001b[0;34m\u001b[0m\u001b[0m\n\u001b[0m\u001b[1;32m    459\u001b[0m             \u001b[0mlast_hidden_state\u001b[0m \u001b[0;34m=\u001b[0m \u001b[0mmodel_output\u001b[0m\u001b[0;34m[\u001b[0m\u001b[0;36m0\u001b[0m\u001b[0;34m]\u001b[0m\u001b[0;34m\u001b[0m\u001b[0;34m\u001b[0m\u001b[0m\n\u001b[1;32m    460\u001b[0m             \u001b[0;31m# Perform mean pooling with attention weighting\u001b[0m\u001b[0;34m\u001b[0m\u001b[0;34m\u001b[0m\u001b[0m\n",
            "\u001b[0;32m/usr/local/lib/python3.10/dist-packages/onnxruntime/capi/onnxruntime_inference_collection.py\u001b[0m in \u001b[0;36mrun\u001b[0;34m(self, output_names, input_feed, run_options)\u001b[0m\n\u001b[1;32m    218\u001b[0m             \u001b[0moutput_names\u001b[0m \u001b[0;34m=\u001b[0m \u001b[0;34m[\u001b[0m\u001b[0moutput\u001b[0m\u001b[0;34m.\u001b[0m\u001b[0mname\u001b[0m \u001b[0;32mfor\u001b[0m \u001b[0moutput\u001b[0m \u001b[0;32min\u001b[0m \u001b[0mself\u001b[0m\u001b[0;34m.\u001b[0m\u001b[0m_outputs_meta\u001b[0m\u001b[0;34m]\u001b[0m\u001b[0;34m\u001b[0m\u001b[0;34m\u001b[0m\u001b[0m\n\u001b[1;32m    219\u001b[0m         \u001b[0;32mtry\u001b[0m\u001b[0;34m:\u001b[0m\u001b[0;34m\u001b[0m\u001b[0;34m\u001b[0m\u001b[0m\n\u001b[0;32m--> 220\u001b[0;31m             \u001b[0;32mreturn\u001b[0m \u001b[0mself\u001b[0m\u001b[0;34m.\u001b[0m\u001b[0m_sess\u001b[0m\u001b[0;34m.\u001b[0m\u001b[0mrun\u001b[0m\u001b[0;34m(\u001b[0m\u001b[0moutput_names\u001b[0m\u001b[0;34m,\u001b[0m \u001b[0minput_feed\u001b[0m\u001b[0;34m,\u001b[0m \u001b[0mrun_options\u001b[0m\u001b[0;34m)\u001b[0m\u001b[0;34m\u001b[0m\u001b[0;34m\u001b[0m\u001b[0m\n\u001b[0m\u001b[1;32m    221\u001b[0m         \u001b[0;32mexcept\u001b[0m \u001b[0mC\u001b[0m\u001b[0;34m.\u001b[0m\u001b[0mEPFail\u001b[0m \u001b[0;32mas\u001b[0m \u001b[0merr\u001b[0m\u001b[0;34m:\u001b[0m\u001b[0;34m\u001b[0m\u001b[0;34m\u001b[0m\u001b[0m\n\u001b[1;32m    222\u001b[0m             \u001b[0;32mif\u001b[0m \u001b[0mself\u001b[0m\u001b[0;34m.\u001b[0m\u001b[0m_enable_fallback\u001b[0m\u001b[0;34m:\u001b[0m\u001b[0;34m\u001b[0m\u001b[0;34m\u001b[0m\u001b[0m\n",
            "\u001b[0;31mKeyboardInterrupt\u001b[0m: "
          ]
        }
      ],
      "source": [
        "# vector_ingest.py\n",
        "#\n",
        "# Use AI to compute semantic embeddings for prompts from library\n",
        "# and injest them into a ChromaDB Vector DB\n",
        "#\n",
        "# John Brunsfeld and Luke Sheneman\n",
        "# Research Computing and Data Services (RCDS)\n",
        "# Institute for Interdisciplinary Data Sciences (IIDS)\n",
        "#\n",
        "# jbrunsfeld@uidaho.edu, sheneman@uidaho.edu\n",
        "# 2024\n",
        "#\n",
        "\n",
        "\n",
        "import chromadb\n",
        "from chromadb.config import Settings\n",
        "import os\n",
        "import json\n",
        "import sys\n",
        "\n",
        "INPUT_FILE = \"/prompt_response.json\"\n",
        "\n",
        "def ingest():\n",
        "\tclient = chromadb.PersistentClient(path=\"db/assistant.db\")\n",
        "\n",
        "\t#client.delete_collection(name=\"assistant\")    # uncomment this to delete the assistant collection\n",
        "\n",
        "\tcollection = client.get_or_create_collection(name=\"assistant\")\n",
        "\n",
        "\tprint(collection.count())\n",
        "\n",
        "\twith open(INPUT_FILE, \"r\") as file:\n",
        "\t\tdata = json.load(file)\n",
        "\n",
        "\tprint(\"Ingesting \" + str(len(data)) + \" prompts\")\n",
        "\n",
        "\n",
        "\tfor i, chunk in enumerate(data):\n",
        "\t\tquestions = []\n",
        "\t\tmetadatas = []\n",
        "\t\tids\t  = []\n",
        "\n",
        "\t\tprompt   = chunk[\"PROMPT\"]\n",
        "\t\tresponse = chunk[\"RESPONSE\"]\n",
        "\n",
        "\t\tquestions.append(prompt)\n",
        "\t\tmetadatas.append({'answer':response})\n",
        "\t\tids.append(str(i))\n",
        "\n",
        "\t\tprint(\"Ingesting prompt: \" + str(i) )\n",
        "\n",
        "\t\tcollection.add(\n",
        "\t\t\tdocuments = questions,\n",
        "\t\t\tmetadatas = metadatas,\n",
        "\t\t\tids = ids\n",
        "\t\t)\n",
        "\n",
        "ingest()\n"
      ]
    }
  ]
}